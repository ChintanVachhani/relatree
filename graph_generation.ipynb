{
 "cells": [
  {
   "cell_type": "markdown",
   "metadata": {},
   "source": [
    "# RelaTree - Social Graph Analytics"
   ]
  },
  {
   "cell_type": "markdown",
   "metadata": {},
   "source": [
    "This notebook has been created to create a social graph based on the given data about user and their groups."
   ]
  },
  {
   "cell_type": "code",
   "execution_count": 1,
   "metadata": {},
   "outputs": [],
   "source": [
    "# Import libraries \n",
    "import os\n",
    "os.environ['PYSPARK_SUBMIT_ARGS'] = (\n",
    "    '--jars lib/graphframes-release-0-5-0-assembly-0.5.0-spark2.1.jar pyspark-shell')\n",
    "import lib.graphframes as GF\n",
    "from pyspark import SparkContext\n",
    "from pyspark import SparkConf\n",
    "from pyspark.sql import SQLContext\n",
    "from pyspark.sql.functions import col, size, lit, collect_list"
   ]
  },
  {
   "cell_type": "code",
   "execution_count": 2,
   "metadata": {},
   "outputs": [],
   "source": [
    "''' \n",
    "Function: Create spark context\n",
    "Parameters: app_name, executor_memory, no_of_executors\n",
    "Returns: Spark SQLContext\n",
    "'''\n",
    "def createContext(app_name=\"RelaTree\", executor_memory=\"2g\", no_of_executors=\"4\"):\n",
    "    sparkConf = (SparkConf().setMaster(\"local\").setAppName(app_name).set(\"spark.executor.memory\", executor_memory).set(\"spark.executor.instances\", no_of_executors))\n",
    "    sparkContext = SparkContext(conf=sparkConf)\n",
    "    sql_context = SQLContext(sparkContext)\n",
    "    return sql_context"
   ]
  },
  {
   "cell_type": "code",
   "execution_count": 3,
   "metadata": {},
   "outputs": [],
   "source": [
    "'''\n",
    "Function: Create Spark dataframe from csv file\n",
    "Parameters: file_path,sql_context\n",
    "Returns: Pyspark Dataframe\n",
    "'''\n",
    "def loadData(file_path,sql_context):\n",
    "    df = sql_context.read.format('com.databricks.spark.csv').options(header='true').load(file_path)\n",
    "    return df"
   ]
  },
  {
   "cell_type": "code",
   "execution_count": 4,
   "metadata": {},
   "outputs": [],
   "source": [
    "'''\n",
    "Function: Provide stats for a Pyspark Dataframe\n",
    "Parameters: Pyspark Dataframe\n",
    "Returns: N/A\n",
    "'''\n",
    "def getStats(df):\n",
    "    print(\"\\nRow count: %d\\n\\nColumn Count: %d\\n\\nColumn headers: %s\\n\\nSample Data:\\n\" %(df.count(),len(df.columns),df.columns))\n",
    "    df.show(5)  "
   ]
  },
  {
   "cell_type": "code",
   "execution_count": 5,
   "metadata": {},
   "outputs": [],
   "source": [
    "'''\n",
    "Function: Create vertices dataframe\n",
    "Parameters: Pyspark Dataframe\n",
    "Returns: Pyspark dataframe depciting vertices\n",
    "'''\n",
    "def createVertices(df):\n",
    "    print(\"Creating Vertices DataFrame..\")\n",
    "    # Select user_Id [vertices] column from Spark dataframe\n",
    "    df_users = df.select(['user_id'])\n",
    "    df_users = df_users.selectExpr(\"user_id as id\") \n",
    "    # Remove duplicate user_id entries and create vertices dataframe\n",
    "    vertices = df_users.drop_duplicates()\n",
    "    print(\"Vertices DataFrame creation complete.\")\n",
    "    return vertices"
   ]
  },
  {
   "cell_type": "code",
   "execution_count": 6,
   "metadata": {},
   "outputs": [],
   "source": [
    "'''\n",
    "Function: Create edges dataframe\n",
    "Parameters: Pyspark Dataframe\n",
    "Returns: Pyspark dataframe depciting edges\n",
    "'''\n",
    "def createEdges(df):\n",
    "    # Create the edges dataframe\n",
    "    print(\"Creating Edges DataFrame..\")\n",
    "    edges = df.select(col('user_id').alias('src'),col('group_id')).join(df.select(col('user_id').alias('dst'),col('group_id')), on=['group_id'], how='outer')\n",
    "    #edges = edges.select(col('src'),col('dst'),col('group_id')).filter(edges.src != edges.dst)\n",
    "    #edges = edges.withColumn(\"relationship\", lit(\"group_member\"))\n",
    "    #edges = edges.select(\"src\", \"dst\", \"relationship\",\"group_id\").groupBy('src','dst','relationship').agg(collect_list('group_id').alias('common_groups'))\n",
    "    #edges = edges.select('*', size('common_groups').alias('weight'))\n",
    "    # Remove duplicate entries\n",
    "    edges = edges.drop_duplicates()\n",
    "    print(\"Edges DataFrame creation complete.\")\n",
    "    return edges"
   ]
  },
  {
   "cell_type": "code",
   "execution_count": 7,
   "metadata": {},
   "outputs": [],
   "source": [
    "'''\n",
    "Function: Create graph\n",
    "Parameters: Pyspark Dataframe - vertices, edges\n",
    "Returns: GraphFrame\n",
    "'''\n",
    "def createGraph(vertices, edges):\n",
    "    print(\"Creating graph..\")\n",
    "    # Generate the graph\n",
    "    graph = GF.GraphFrame(vertices, edges)\n",
    "    print(\"Graph creation complete.\")\n",
    "    return graph"
   ]
  },
  {
   "cell_type": "code",
   "execution_count": 8,
   "metadata": {},
   "outputs": [],
   "source": [
    "'''\n",
    "Function: Save graph to file\n",
    "Parameters: GraphFrame\n",
    "Returns: N/A\n",
    "'''\n",
    "def saveGraph(graph):\n",
    "    # Save the graph to a file\n",
    "    print(\"Saving graph to file..\")\n",
    "    graph.vertices.write.parquet('store/gv.parquet')\n",
    "    graph.edges.write.parquet('store/ge.parquet')\n",
    "    print(\"Graph has been saved successfully.\")"
   ]
  },
  {
   "cell_type": "code",
   "execution_count": 9,
   "metadata": {},
   "outputs": [],
   "source": [
    "'''\n",
    "Function: Load graph from file\n",
    "Parameters: N/A\n",
    "Returns: GraphFrame\n",
    "'''\n",
    "def loadGraph(context):\n",
    "    # Load the graph from file\n",
    "    print(\"\\nLoading graph data..\")\n",
    "    vertices = context.read.parquet('store/gv.parquet')\n",
    "    edges = context.read.parquet('store/ge.parquet')\n",
    "    print(\"\\nGenerating graph..\")\n",
    "    graph = GF.GraphFrame(vertices, edges)\n",
    "    print(\"\\nGraph load complete.\")\n",
    "    return graph"
   ]
  },
  {
   "cell_type": "code",
   "execution_count": 10,
   "metadata": {},
   "outputs": [],
   "source": [
    "'''\n",
    "Function: Obtain the first connects of a given vertex\n",
    "Parameters: GraphFrame, vertex label\n",
    "Returns: GraphFrame of connected vertices and their edges\n",
    "'''\n",
    "def firstConnects(graph, vertex):\n",
    "    first_connect_motifs = graph.find(\"(v1)-[e]->(v2)\").filter(\"v1.id == '\"+vertex+\"'\")\n",
    "    return first_connect_motifs.select(\"v2.id\",\"e.group_id\")"
   ]
  },
  {
   "cell_type": "code",
   "execution_count": 11,
   "metadata": {},
   "outputs": [],
   "source": [
    "'''\n",
    "Function: Delete dataframe to free memory\n",
    "Parameters: List of DataFrames\n",
    "Returns: N/A\n",
    "'''\n",
    "def cleanUp(df_list):\n",
    "    for df in df_list:\n",
    "        del df\n",
    "    print(\"\\nDataFrame clean up complete.\")"
   ]
  },
  {
   "cell_type": "code",
   "execution_count": 12,
   "metadata": {},
   "outputs": [],
   "source": [
    "'''\n",
    "Function: Get users connected by the given group\n",
    "Parameters: Graphframe, group_id\n",
    "Returns: Set of users\n",
    "'''\n",
    "def getUsersOfAGroup(graph, group):\n",
    "    edges = graph.edges.filter(\"group_id = '\"+group+\"'\").collect()\n",
    "    users = set()\n",
    "    for row in edges:\n",
    "        users.add(row.src)\n",
    "    return users"
   ]
  },
  {
   "cell_type": "code",
   "execution_count": 13,
   "metadata": {},
   "outputs": [],
   "source": [
    "'''\n",
    "Function: Add first connected users to the given user set\n",
    "Parameters: Graphframe, users set\n",
    "Returns: Set of users\n",
    "'''\n",
    "def addFirstConnects(graph, users):\n",
    "    newUsers = set()\n",
    "    for user in users:\n",
    "        vertices = firstConnects(graph, user)\n",
    "        vertices = vertices.collect()\n",
    "        for row in vertices:\n",
    "            newUsers.add(row.id)\n",
    "    users = users.union(newUsers)\n",
    "    return users"
   ]
  },
  {
   "cell_type": "code",
   "execution_count": 14,
   "metadata": {},
   "outputs": [],
   "source": [
    "'''\n",
    "Function: Get all the groups associated with the given users\n",
    "Parameters: Graphframe, users set\n",
    "Returns: Dictionary of Groups with their counts frequency\n",
    "'''\n",
    "def getGroupsAssociatedToUsers(graph, users):\n",
    "    groups = dict()\n",
    "    for user in users:\n",
    "        g = graph.edges.filter(\"src = '\"+user+\"'\").collect()\n",
    "        for row in g:\n",
    "            key = row.group_id\n",
    "            if key in groups:\n",
    "                groups[key] += 1\n",
    "            else:\n",
    "                groups[key] = 1\n",
    "    total = 0\n",
    "    for key in groups.keys():\n",
    "        total += groups[key]\n",
    "    for key in groups.keys():\n",
    "        groups[key] = groups[key] / total\n",
    "    return groups"
   ]
  },
  {
   "cell_type": "code",
   "execution_count": 15,
   "metadata": {},
   "outputs": [],
   "source": [
    "'''\n",
    "Function: Get all the channels associated with the given groups\n",
    "Parameters: Pyspark Dataframe, groups dict\n",
    "Returns: Dictionary of Channels with their counts frequency weighted based on groups\n",
    "'''\n",
    "def getChannelsAssociatedToGroups(data, groups):\n",
    "    channels = dict()\n",
    "    for group in groups.keys():\n",
    "        c = data.filter(\"group_id = '\"+group+\"'\").collect()\n",
    "        for row in c:\n",
    "            key = row.channel_id\n",
    "            if key in channels:\n",
    "                channels[key] += groups[group]\n",
    "            else:\n",
    "                channels[key] = groups[group]\n",
    "    total = 0\n",
    "    for key in channels.keys():\n",
    "        total += channels[key]\n",
    "    for key in channels.keys():\n",
    "        channels[key] = channels[key] / total\n",
    "    return channels"
   ]
  },
  {
   "cell_type": "code",
   "execution_count": 16,
   "metadata": {},
   "outputs": [],
   "source": [
    "'''\n",
    "Function: Get all the channels associated with the given group along with their respective importance factor\n",
    "Parameters: Pyspark Dataframe, Graphframe, group_id\n",
    "Returns: Dictionary of Channels with their counts frequency weighted based on groups\n",
    "'''\n",
    "def getChannelsForGroup(data, graph, group):\n",
    "    users = getUsersOfAGroup(graph, group)\n",
    "    users = addFirstConnects(graph, users)\n",
    "    groups = getGroupsAssociatedToUsers(graph, users)\n",
    "    channels = getChannelsAssociatedToGroups(data, groups)\n",
    "    return channels"
   ]
  },
  {
   "cell_type": "code",
   "execution_count": null,
   "metadata": {},
   "outputs": [],
   "source": [
    "if __name__ == \"__main__\":\n",
    "    \n",
    "    # Create Spark context\n",
    "    sql_context = createContext(app_name=\"RelaTree\", executor_memory=\"2g\", no_of_executors=\"4\")\n",
    "    \n",
    "    # Load group to member data into a Pyspark Dataframe\n",
    "#     df_group_members = loadData('data/group_members.csv',sql_context)\n",
    "    \n",
    "    # Load group to channel data into a Pyspark Dataframe\n",
    "    df_group_channels = loadData('data/group_channel.csv',sql_context)\n",
    "    \n",
    "    # Get stats on group members and group channels dataframes\n",
    "#     getStats(df_group_members)\n",
    "#     getStats(df_group_channels)\n",
    "    \n",
    "    # Create vertices dataframe\n",
    "#     vertices = createVertices(df_group_members)\n",
    "    \n",
    "    # Create edges dataframe\n",
    "#     edges = createEdges(df_group_members)\n",
    "    \n",
    "    # Get stats on vertices and edges dataframes\n",
    "#     getStats(vertices)\n",
    "#     getStats(edges)\n",
    "    \n",
    "    # Create Graph\n",
    "#     duta_graph = createGraph(vertices,edges)\n",
    "    \n",
    "    # Clean up memory\n",
    "#     cleanUp([vertices, edges, df_group_members])\n",
    "    \n",
    "    # Save Graph to file \n",
    "    #saveGraph(duta_graph)\n",
    "    \n",
    "    # Load graph from file\n",
    "    duta_graph = loadGraph(sql_context)\n",
    "    channels = getChannelsForGroup(df_group_channels, duta_graph, 'd2c8410bb78af46155aaa96b50b082598ca69306')"
   ]
  }
 ],
 "metadata": {
  "kernelspec": {
   "display_name": "Python 3",
   "language": "python",
   "name": "python3"
  },
  "language_info": {
   "codemirror_mode": {
    "name": "ipython",
    "version": 3
   },
   "file_extension": ".py",
   "mimetype": "text/x-python",
   "name": "python",
   "nbconvert_exporter": "python",
   "pygments_lexer": "ipython3",
   "version": "3.6.5"
  }
 },
 "nbformat": 4,
 "nbformat_minor": 2
}
