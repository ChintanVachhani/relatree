{
 "cells": [
  {
   "cell_type": "code",
   "execution_count": 5,
   "metadata": {},
   "outputs": [],
   "source": [
    "import os\n",
    "os.environ['PYSPARK_SUBMIT_ARGS'] = (\n",
    "    '--jars lib/graphframes-release-0-5-0-assembly-0.5.0-spark2.1.jar pyspark-shell')\n",
    "from pyspark.sql import SparkSession\n",
    "from lib.graphframes import *\n",
    "from pyspark.sql.functions import col, size, lit, collect_list\n",
    "\n",
    "spark = SparkSession \\\n",
    "    .builder \\\n",
    "    .appName(\"RelaTree\") \\\n",
    "    .getOrCreate()\n",
    "\n",
    "# group_members_data = spark.read.csv(\"data/group_members.csv\", header=\"true\").drop(\"update_time\", \"is_admin\")\n",
    "# group_channel_data = spark.read.csv(\"data/group_channel.csv\", header=\"true\")"
   ]
  },
  {
   "cell_type": "code",
   "execution_count": 6,
   "metadata": {},
   "outputs": [
    {
     "name": "stdout",
     "output_type": "stream",
     "text": [
      "+---+-------+---+\n",
      "| id|   name|age|\n",
      "+---+-------+---+\n",
      "|  a|  Alice| 34|\n",
      "|  b|    Bob| 36|\n",
      "|  c|Charlie| 30|\n",
      "|  d|  David| 29|\n",
      "|  e| Esther| 32|\n",
      "|  f|  Fanny| 36|\n",
      "|  g|  Gabby| 60|\n",
      "+---+-------+---+\n",
      "\n",
      "+---+---+------------+\n",
      "|src|dst|relationship|\n",
      "+---+---+------------+\n",
      "|  a|  b|      friend|\n",
      "|  b|  c|      follow|\n",
      "|  c|  b|      follow|\n",
      "|  f|  c|      follow|\n",
      "|  e|  f|      follow|\n",
      "|  e|  d|      friend|\n",
      "|  d|  a|      friend|\n",
      "|  a|  e|      friend|\n",
      "+---+---+------------+\n",
      "\n"
     ]
    }
   ],
   "source": [
    "# Vertex DataFrame\n",
    "v = spark.createDataFrame([\n",
    "    (\"a\", \"Alice\", 34),\n",
    "    (\"b\", \"Bob\", 36),\n",
    "    (\"c\", \"Charlie\", 30),\n",
    "    (\"d\", \"David\", 29),\n",
    "    (\"e\", \"Esther\", 32),\n",
    "    (\"f\", \"Fanny\", 36),\n",
    "    (\"g\", \"Gabby\", 60)\n",
    "], [\"id\", \"name\", \"age\"])\n",
    "# Edge DataFrame\n",
    "e = spark.createDataFrame([\n",
    "    (\"a\", \"b\", \"friend\"),\n",
    "    (\"b\", \"c\", \"follow\"),\n",
    "    (\"c\", \"b\", \"follow\"),\n",
    "    (\"f\", \"c\", \"follow\"),\n",
    "    (\"e\", \"f\", \"follow\"),\n",
    "    (\"e\", \"d\", \"friend\"),\n",
    "    (\"d\", \"a\", \"friend\"),\n",
    "    (\"a\", \"e\", \"friend\")\n",
    "], [\"src\", \"dst\", \"relationship\"])\n",
    "# Create a GraphFrame\n",
    "g = GraphFrame(v, e)\n",
    "g.vertices.show()\n",
    "g.edges.show()"
   ]
  },
  {
   "cell_type": "code",
   "execution_count": 6,
   "metadata": {},
   "outputs": [
    {
     "name": "stdout",
     "output_type": "stream",
     "text": [
      "+---+-------+---+\n",
      "| id|   name|age|\n",
      "+---+-------+---+\n",
      "|  c|Charlie| 30|\n",
      "|  e| Esther| 32|\n",
      "|  a|  Alice| 34|\n",
      "|  d|  David| 29|\n",
      "|  f|  Fanny| 36|\n",
      "|  g|  Gabby| 60|\n",
      "|  b|    Bob| 36|\n",
      "+---+-------+---+\n",
      "\n",
      "+---+---+------------+\n",
      "|src|dst|relationship|\n",
      "+---+---+------------+\n",
      "|  a|  b|      friend|\n",
      "|  b|  c|      follow|\n",
      "|  c|  b|      follow|\n",
      "|  f|  c|      follow|\n",
      "|  e|  f|      follow|\n",
      "|  e|  d|      friend|\n",
      "|  d|  a|      friend|\n",
      "|  a|  e|      friend|\n",
      "+---+---+------------+\n",
      "\n"
     ]
    }
   ],
   "source": [
    "g.vertices.write.parquet('store/gv.parquet')\n",
    "g.edges.write.parquet('store/ge.parquet')\n",
    "\n",
    "agv = spark.read.parquet('store/gv.parquet')\n",
    "age = spark.read.parquet('store/ge.parquet')\n",
    "\n",
    "ag = GraphFrame(agv, age)\n",
    "ag.vertices.show()\n",
    "ag.edges.show()"
   ]
  },
  {
   "cell_type": "code",
   "execution_count": 18,
   "metadata": {},
   "outputs": [
    {
     "name": "stderr",
     "output_type": "stream",
     "text": [
      "c:\\programdata\\python36\\lib\\site-packages\\IPython\\core\\interactiveshell.py:2785: DtypeWarning: Columns (5) have mixed types. Specify dtype option on import or set low_memory=False.\n",
      "  interactivity=interactivity, compiler=compiler, result=result)\n"
     ]
    },
    {
     "data": {
      "text/html": [
       "<div>\n",
       "<style scoped>\n",
       "    .dataframe tbody tr th:only-of-type {\n",
       "        vertical-align: middle;\n",
       "    }\n",
       "\n",
       "    .dataframe tbody tr th {\n",
       "        vertical-align: top;\n",
       "    }\n",
       "\n",
       "    .dataframe thead th {\n",
       "        text-align: right;\n",
       "    }\n",
       "</style>\n",
       "<table border=\"1\" class=\"dataframe\">\n",
       "  <thead>\n",
       "    <tr style=\"text-align: right;\">\n",
       "      <th></th>\n",
       "      <th>create_time</th>\n",
       "      <th>update_time</th>\n",
       "      <th>group_id</th>\n",
       "      <th>user_id</th>\n",
       "      <th>is_admin</th>\n",
       "      <th>added_by</th>\n",
       "    </tr>\n",
       "  </thead>\n",
       "  <tbody>\n",
       "    <tr>\n",
       "      <th>0</th>\n",
       "      <td>2016-06-25 12:12:58.776567</td>\n",
       "      <td>2016-06-25 12:12:58.776567</td>\n",
       "      <td>c8a5ca5947cc7d9251b808b7aad0e75fac381823</td>\n",
       "      <td>fcaa201f972dfc42809e83de776fd36aa1577761</td>\n",
       "      <td>f</td>\n",
       "      <td>NaN</td>\n",
       "    </tr>\n",
       "    <tr>\n",
       "      <th>1</th>\n",
       "      <td>2018-03-26 18:30:02.531757</td>\n",
       "      <td>2018-03-26 18:30:02.531757</td>\n",
       "      <td>d2c8410bb78af46155aaa96b50b082598ca69306</td>\n",
       "      <td>26cf4a8044866c1bca5f54dea9632180ac37e6d6</td>\n",
       "      <td>f</td>\n",
       "      <td>NaN</td>\n",
       "    </tr>\n",
       "    <tr>\n",
       "      <th>2</th>\n",
       "      <td>2017-12-18 10:23:26.487894</td>\n",
       "      <td>2017-12-18 10:23:26.487894</td>\n",
       "      <td>2c07f080d9f041295761260edf28275a872e65e2</td>\n",
       "      <td>570a2ddfdccc2b7754dfc1052923217a8e5fd2df</td>\n",
       "      <td>f</td>\n",
       "      <td>NaN</td>\n",
       "    </tr>\n",
       "    <tr>\n",
       "      <th>3</th>\n",
       "      <td>2018-02-08 16:58:31.057972</td>\n",
       "      <td>2018-02-08 16:58:31.057972</td>\n",
       "      <td>1430c9033779d7585789131f4d287743c9163e87</td>\n",
       "      <td>df8d3021822ef6fed29011bc254c5d82d99222dd</td>\n",
       "      <td>f</td>\n",
       "      <td>NaN</td>\n",
       "    </tr>\n",
       "    <tr>\n",
       "      <th>4</th>\n",
       "      <td>2018-03-26 18:30:02.531757</td>\n",
       "      <td>2018-03-26 18:30:02.531757</td>\n",
       "      <td>d2c8410bb78af46155aaa96b50b082598ca69306</td>\n",
       "      <td>777862a1db383bcd7ea66d9f80424f98a7c9ef9f</td>\n",
       "      <td>f</td>\n",
       "      <td>NaN</td>\n",
       "    </tr>\n",
       "  </tbody>\n",
       "</table>\n",
       "</div>"
      ],
      "text/plain": [
       "                  create_time                 update_time  \\\n",
       "0  2016-06-25 12:12:58.776567  2016-06-25 12:12:58.776567   \n",
       "1  2018-03-26 18:30:02.531757  2018-03-26 18:30:02.531757   \n",
       "2  2017-12-18 10:23:26.487894  2017-12-18 10:23:26.487894   \n",
       "3  2018-02-08 16:58:31.057972  2018-02-08 16:58:31.057972   \n",
       "4  2018-03-26 18:30:02.531757  2018-03-26 18:30:02.531757   \n",
       "\n",
       "                                   group_id  \\\n",
       "0  c8a5ca5947cc7d9251b808b7aad0e75fac381823   \n",
       "1  d2c8410bb78af46155aaa96b50b082598ca69306   \n",
       "2  2c07f080d9f041295761260edf28275a872e65e2   \n",
       "3  1430c9033779d7585789131f4d287743c9163e87   \n",
       "4  d2c8410bb78af46155aaa96b50b082598ca69306   \n",
       "\n",
       "                                    user_id is_admin added_by  \n",
       "0  fcaa201f972dfc42809e83de776fd36aa1577761        f      NaN  \n",
       "1  26cf4a8044866c1bca5f54dea9632180ac37e6d6        f      NaN  \n",
       "2  570a2ddfdccc2b7754dfc1052923217a8e5fd2df        f      NaN  \n",
       "3  df8d3021822ef6fed29011bc254c5d82d99222dd        f      NaN  \n",
       "4  777862a1db383bcd7ea66d9f80424f98a7c9ef9f        f      NaN  "
      ]
     },
     "execution_count": 18,
     "metadata": {},
     "output_type": "execute_result"
    }
   ],
   "source": [
    "import pandas as pd\n",
    "\n",
    "data = pd.read_csv('data/group_members.csv')\n",
    "data.head()"
   ]
  },
  {
   "cell_type": "code",
   "execution_count": 20,
   "metadata": {},
   "outputs": [
    {
     "data": {
      "text/plain": [
       "245e6a1ec240325b7f45dcde02397032cc437328    328\n",
       "8d6224b3c39fe19d099e5971d0880afe58b2128a    314\n",
       "d844058c0e39332000fbdc09c44143fbc747cb2a    310\n",
       "03d9e87c037548b7d57ba779a6be2aa2e52f9b81    307\n",
       "42d44d92b4fdf974945f80f24bb8dae6ef1576dd    306\n",
       "3123dfc22b65f25f130908a4bae441059d44b877    305\n",
       "b30b84ca1fd134b50391f77aef3aecead032448c    300\n",
       "116854cc62a1076a7e4e4c350e33e82a9d7c0af6    298\n",
       "9a08c348b64b0219619a7b25a4f5daf4b1109ef9    296\n",
       "f06b507b5bfb551146eb05f6569eba549c736f1b    290\n",
       "17167e5bc70ad7cad465b2a35a32bf897766ecaf    287\n",
       "e7b932eba610b29960fcc9d92430266c2cae2c66    286\n",
       "638486a29c7681626325c084c5651d9ac05a33bb    286\n",
       "9e9ade2e42acfdce5cc9594e1e6bff8fcb4d6f97    284\n",
       "278ebd55f0d450e64f593a7c3e7938fc9c335e42    284\n",
       "f425bba48f3d2bd32de53b13f23eb93ef789b3ea    283\n",
       "d2a6b24e6d91ff03d41fd359267c53c9fea05879    281\n",
       "f436c7333ba9d18722bb0c3d8d717dc12bb5f4af    281\n",
       "22673e95c2c7a6625124f088a7133a62b6cebf5c    281\n",
       "0103d399a4d343cce43eb1b737413170c72633ee    279\n",
       "4890ad9e355747c5c9dcb35e23645979a7186a46    278\n",
       "9cde20d456f91e681205480390038686e3364bcb    278\n",
       "ed5fac665f11bac925906e6126fcd02753fa2ae0    276\n",
       "361a5bcda5e4142d2bfe08daf84b0a523f760f22    276\n",
       "7b7c4a0198ce32350c74bb0bb9b4614acd8ac889    276\n",
       "b133f4131115978eb5107dbeaac71ffda614d30f    275\n",
       "2c2e774de5374ba64974a5ff3d8b286f49fd8ac6    274\n",
       "9e5177fbd8e4e41314f91e1efee7c847a38ddca2    273\n",
       "1f75aba40fc3808eb6ab2a9001ffa814c4149502    273\n",
       "bdf9df5237ecb3748af0f44039038da7072c00e2    273\n",
       "                                           ... \n",
       "2955595b498dfd81620341f8abfca6d4d5a769eb      1\n",
       "6332632f4ada765b14db57cd71db62da6c90327a      1\n",
       "553ef09b652d2f8c7532724862260d2e9708e302      1\n",
       "215fe3004f325c3f53236be9fb817ccfa511f7ef      1\n",
       "e77fc74ddb6807420c73ba181681d853515e82a0      1\n",
       "06be20ddfbcc25b128df555cb7d588b2708bca55      1\n",
       "6e8a06fa28172a56c515801b3eb5f8932e9bf6fc      1\n",
       "eecee1e8241112148ed01368a57ff0599b34db4e      1\n",
       "87c86a1189cd0e64dcdd27e47f5321cec0cae8bf      1\n",
       "7ff3730ee567b881e210101c55f83d2e753d6c32      1\n",
       "33a6a0321366a497350ba13b219ab018df4f8c80      1\n",
       "dacca4e652009ca8b5b21f3a99391ed5e28f90b2      1\n",
       "34e7b135281ca318943c45cc8dbf3c11b498099c      1\n",
       "c06cc05c42b3bd363813f132a608edac3a0c475e      1\n",
       "17d5bbabbccd17a9c002da8f4c484c51d57d16c9      1\n",
       "24ee42566267f3c4d6219593026fde252f229da7      1\n",
       "25f66ea1195dadd2aedf44ed2fd35fe6136f8373      1\n",
       "453bc0775a79a7d0f41e98d9f1864e51f99b03b3      1\n",
       "e6185aee4343accf133e34e87acfd13ff6afc488      1\n",
       "c4caa2eefccb4c24256818a1e730bd4c928adf8d      1\n",
       "52ec3103b9a035396ddbf2dd7aaf6f26fb19b3ad      1\n",
       "050d8dff3382c6503093ad4cdb64c0d8b1d337fa      1\n",
       "3180ebf680fbe8f8df0993133333e239fe6607e4      1\n",
       "d8509ea644dbab39ec215cfdeec8a64e8326482c      1\n",
       "5fda01efbcbf3ecced0a9f0da1c179160ed53a9a      1\n",
       "c141ef4d309b251fff0d46dc9e70a8f37f8d83dd      1\n",
       "f34e05857408a638185e0fa89180f68384b3cbb0      1\n",
       "3ba6ec8721b7ab3c3c26cc24e0df9d5d1c6314f3      1\n",
       "524c49fb1eb9e39957068b0a5418b94bc27ffee8      1\n",
       "aad8ac3aaf71a29631c82f969b1b84d9b39405b9      1\n",
       "Name: group_id, Length: 2076707, dtype: int64"
      ]
     },
     "execution_count": 20,
     "metadata": {},
     "output_type": "execute_result"
    }
   ],
   "source": [
    "data['group_id'].value_counts()"
   ]
  },
  {
   "cell_type": "code",
   "execution_count": null,
   "metadata": {},
   "outputs": [],
   "source": [
    "c141ef4d309b251fff0d46dc9e70a8f37f8d83dd"
   ]
  },
  {
   "cell_type": "code",
   "execution_count": 21,
   "metadata": {},
   "outputs": [],
   "source": [
    "cdata = pd.read_csv('data/group_channel.csv')"
   ]
  },
  {
   "cell_type": "code",
   "execution_count": 22,
   "metadata": {},
   "outputs": [
    {
     "data": {
      "text/html": [
       "<div>\n",
       "<style scoped>\n",
       "    .dataframe tbody tr th:only-of-type {\n",
       "        vertical-align: middle;\n",
       "    }\n",
       "\n",
       "    .dataframe tbody tr th {\n",
       "        vertical-align: top;\n",
       "    }\n",
       "\n",
       "    .dataframe thead th {\n",
       "        text-align: right;\n",
       "    }\n",
       "</style>\n",
       "<table border=\"1\" class=\"dataframe\">\n",
       "  <thead>\n",
       "    <tr style=\"text-align: right;\">\n",
       "      <th></th>\n",
       "      <th>group_id</th>\n",
       "      <th>channel_id</th>\n",
       "    </tr>\n",
       "  </thead>\n",
       "  <tbody>\n",
       "    <tr>\n",
       "      <th>0</th>\n",
       "      <td>768808012f4a55a3c4b2ff469dd8231cd935ebac</td>\n",
       "      <td>football</td>\n",
       "    </tr>\n",
       "    <tr>\n",
       "      <th>1</th>\n",
       "      <td>c2de90421fafd6c9b14deaaf2e30ec72797cb2b4</td>\n",
       "      <td>football</td>\n",
       "    </tr>\n",
       "    <tr>\n",
       "      <th>2</th>\n",
       "      <td>c42dd8dcc1ba6469e5590ee7563438f1cf83a14d</td>\n",
       "      <td>promo</td>\n",
       "    </tr>\n",
       "    <tr>\n",
       "      <th>3</th>\n",
       "      <td>baccbd59003ffd22d77b4f11a91c581ffa4ee075</td>\n",
       "      <td>basketball</td>\n",
       "    </tr>\n",
       "    <tr>\n",
       "      <th>4</th>\n",
       "      <td>3aa92e503fbdd905c19d2f2c99474b79307139bc</td>\n",
       "      <td>olympics</td>\n",
       "    </tr>\n",
       "  </tbody>\n",
       "</table>\n",
       "</div>"
      ],
      "text/plain": [
       "                                   group_id  channel_id\n",
       "0  768808012f4a55a3c4b2ff469dd8231cd935ebac    football\n",
       "1  c2de90421fafd6c9b14deaaf2e30ec72797cb2b4    football\n",
       "2  c42dd8dcc1ba6469e5590ee7563438f1cf83a14d       promo\n",
       "3  baccbd59003ffd22d77b4f11a91c581ffa4ee075  basketball\n",
       "4  3aa92e503fbdd905c19d2f2c99474b79307139bc    olympics"
      ]
     },
     "execution_count": 22,
     "metadata": {},
     "output_type": "execute_result"
    }
   ],
   "source": [
    "cdata.head()"
   ]
  },
  {
   "cell_type": "code",
   "execution_count": 26,
   "metadata": {},
   "outputs": [
    {
     "data": {
      "text/plain": [
       "(array([6897257, 6899035], dtype=int64),)"
      ]
     },
     "execution_count": 26,
     "metadata": {},
     "output_type": "execute_result"
    }
   ],
   "source": [
    "import numpy as np\n",
    "np.where(cdata['group_id'] == 'c141ef4d309b251fff0d46dc9e70a8f37f8d83dd')"
   ]
  },
  {
   "cell_type": "code",
   "execution_count": 29,
   "metadata": {},
   "outputs": [
    {
     "data": {
      "text/plain": [
       "group_id      c141ef4d309b251fff0d46dc9e70a8f37f8d83dd\n",
       "channel_id                                     cricket\n",
       "Name: 6899035, dtype: object"
      ]
     },
     "execution_count": 29,
     "metadata": {},
     "output_type": "execute_result"
    }
   ],
   "source": [
    "cdata.iloc[6899035,:]"
   ]
  },
  {
   "cell_type": "code",
   "execution_count": null,
   "metadata": {},
   "outputs": [],
   "source": [
    "# Import libraries \n",
    "import graphframe as GF\n",
    "from pyspark import SparkContext\n",
    "from pyspark import SparkConf\n",
    "from pyspark.sql import SQLContext\n",
    "from pyspark.sql.functions import col, size, lit, collect_list\n",
    "import operator\n",
    "\n",
    "\n",
    "\n",
    "\n",
    "\n",
    "\n",
    "def graph_recommender(graph,channels,k):\n",
    "    recommendations = {}\n",
    "    for channel,weight in channels.iteritems():\n",
    "        channel_motif = graph.find(\"(v1)-[e]->(v2)\").filter(\"v1.id == '\"+channel+\"'\")\n",
    "        direct_neighbors = channel_motif.select(\"v2.id\",\"e.weight\").collect()\n",
    "        for row in direct_neighbors:\n",
    "            recommendations[row.id]=recommendations.get(row.id,0)+(row.weight*weight)\n",
    "    return (sorted(recommendations.items(), key=operator.itemgetter(1),reverse=True))\n",
    "\n",
    "\n",
    "\n",
    "\n",
    "\n"
   ]
  }
 ],
 "metadata": {
  "kernelspec": {
   "display_name": "Python 3",
   "language": "python",
   "name": "python3"
  },
  "language_info": {
   "codemirror_mode": {
    "name": "ipython",
    "version": 3
   },
   "file_extension": ".py",
   "mimetype": "text/x-python",
   "name": "python",
   "nbconvert_exporter": "python",
   "pygments_lexer": "ipython3",
   "version": "3.6.5"
  }
 },
 "nbformat": 4,
 "nbformat_minor": 2
}
